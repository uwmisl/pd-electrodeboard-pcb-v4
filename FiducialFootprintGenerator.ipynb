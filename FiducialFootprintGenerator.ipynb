{
 "cells": [
  {
   "cell_type": "markdown",
   "metadata": {},
   "source": [
    "# Generate Fidicual Footprint from binary image\n",
    "\n",
    "Creates a silkscreen footprint with no pads, from a small image. White pixels in the image are silkscreened, and black pixels are left blank.\n",
    "It's intended that the silkscreen be placed on a dark soldermask. "
   ]
  },
  {
   "cell_type": "code",
   "execution_count": 3,
   "metadata": {},
   "outputs": [],
   "source": [
    "\n",
    "import cv2\n",
    "import matplotlib.pyplot as plt\n",
    "import numpy as np"
   ]
  },
  {
   "cell_type": "code",
   "execution_count": 23,
   "metadata": {},
   "outputs": [
    {
     "name": "stdout",
     "output_type": "stream",
     "text": [
      "[[255. 255. 255. 255. 255. 255. 255. 255. 255. 255. 255. 255.]\n",
      " [255. 255. 255. 255. 255. 255. 255. 255. 255. 255. 255. 255.]\n",
      " [255. 255.   0.   0.   0.   0.   0.   0.   0.   0. 255. 255.]\n",
      " [255. 255.   0. 255. 255.   0. 255.   0. 255.   0. 255. 255.]\n",
      " [255. 255.   0.   0. 255. 255. 255.   0. 255.   0. 255. 255.]\n",
      " [255. 255.   0.   0. 255. 255.   0.   0.   0.   0. 255. 255.]\n",
      " [255. 255.   0. 255.   0. 255.   0.   0.   0.   0. 255. 255.]\n",
      " [255. 255.   0.   0. 255.   0. 255. 255.   0.   0. 255. 255.]\n",
      " [255. 255.   0.   0.   0.   0. 255.   0.   0.   0. 255. 255.]\n",
      " [255. 255.   0.   0.   0.   0.   0.   0.   0.   0. 255. 255.]\n",
      " [255. 255. 255. 255. 255. 255. 255. 255. 255. 255. 255. 255.]\n",
      " [255. 255. 255. 255. 255. 255. 255. 255. 255. 255. 255. 255.]]\n"
     ]
    },
    {
     "data": {
      "text/plain": [
       "<matplotlib.image.AxesImage at 0x120d225d0>"
      ]
     },
     "execution_count": 23,
     "metadata": {},
     "output_type": "execute_result"
    },
    {
     "data": {
      "image/png": "[encoded data removed]",
      "text/plain": [
       "<Figure size 432x288 with 1 Axes>"
      ]
     },
     "metadata": {
      "needs_background": "light"
     },
     "output_type": "display_data"
    }
   ],
   "source": [
    "SIZE = 4.1 # mm\n",
    "BORDER = 1 # px\n",
    "INPUT_IMAGE = 'TagImages/tag36_11_00000.png'\n",
    "FOOTPRINT_NAME = 'tag36_11_00000_%.2fmm' % SIZE\n",
    "\n",
    "image = cv2.imread(INPUT_IMAGE)\n",
    "image = cv2.cvtColor(image, cv2.COLOR_BGR2GRAY)\n",
    "w = image.shape[1] + BORDER * 2\n",
    "h = image.shape[0] + BORDER * 2\n",
    "borderimage = np.ones((h, w)) * 255\n",
    "borderimage[BORDER:h-BORDER, BORDER:w-BORDER] = image\n",
    "\n",
    "plt.figure()\n",
    "plt.imshow(borderimage, cmap='gray')\n",
    "\n"
   ]
  },
  {
   "cell_type": "code",
   "execution_count": 28,
   "metadata": {},
   "outputs": [],
   "source": [
    "import KicadModTree as kmt\n",
    "kicad_mod = kmt.Footprint(FOOTPRINT_NAME)\n",
    "kicad_mod.setDescription(\"Fiducial Tag Silk Screen\")\n",
    "\n",
    "kicad_mod.append(kmt.Text(type=\"reference\", text=\"\", at=[0, -3], layer='F.SilkS'))\n",
    "kicad_mod.append(kmt.Text(type=\"value\", text=\"Fiducial\", at=[1.5, 3], layer='F.Fab'))\n",
    "\n",
    "# Size of a pixel\n",
    "d = SIZE / w\n",
    "\n",
    "origin = np.array([-d*w/2, -d*h/2])\n",
    "for row in range(h):\n",
    "    for col in range(w):\n",
    "        if borderimage[row, col] < 128: \n",
    "            continue\n",
    "        start = origin + (col * d, row * d)\n",
    "        end = start + (d, d)\n",
    "        \n",
    "        kicad_mod.append(kmt.FilledRect(\n",
    "            start=start.tolist(),\n",
    "            end=end.tolist(),\n",
    "            layer='F.SilkS',\n",
    "            width=d / 100,\n",
    "        ))\n",
    "\n",
    "# output kicad model\n",
    "file_handler = kmt.KicadFileHandler(kicad_mod)\n",
    "file_handler.writeFile(FOOTPRINT_NAME + \".kicad_mod\")"
   ]
  },
  {
   "cell_type": "code",
   "execution_count": null,
   "metadata": {},
   "outputs": [],
   "source": []
  }
 ],
 "metadata": {
  "kernelspec": {
   "display_name": "cv4",
   "language": "python",
   "name": "cv4"
  },
  "language_info": {
   "codemirror_mode": {
    "name": "ipython",
    "version": 3
   },
   "file_extension": ".py",
   "mimetype": "text/x-python",
   "name": "python",
   "nbconvert_exporter": "python",
   "pygments_lexer": "ipython3",
   "version": "3.7.6"
  }
 },
 "nbformat": 4,
 "nbformat_minor": 4
}
